{
 "cells": [
  {
   "cell_type": "code",
   "execution_count": 1,
   "id": "5d2c1ee2",
   "metadata": {},
   "outputs": [],
   "source": [
    "import numpy as np\n",
    "import pandas as pd\n",
    "from scipy.interpolate import interp1d\n",
    "from optimal_control.models.Problem_Class import OptimalControl\n",
    "from optimal_control.opt_algos.projected_gradient_descent import projected_gradient_descent\n",
    "import matplotlib.pyplot as plt"
   ]
  },
  {
   "cell_type": "code",
   "execution_count": 2,
   "id": "eb943cbb",
   "metadata": {},
   "outputs": [],
   "source": [
    "data = pd.read_csv('2021-03-15-12-46-38_2T3MWRFVXLW056972_masterArray_1_11342.csv')\n",
    "time = np.array(data.Time) - min(data.Time)\n",
    "time = time[:1000]\n",
    "# velocity = np.array(data.Velocity)*(1000/3600)\n",
    "velocity = 30 * np.ones(time.shape)\n",
    "position = 20 + np.multiply(time, velocity) \n",
    "# s = np.diff(velocity)\n",
    "# s = np.append(s, s[-1])/0.1"
   ]
  },
  {
   "cell_type": "code",
   "execution_count": 3,
   "id": "a2f09478",
   "metadata": {},
   "outputs": [],
   "source": [
    "model = OptimalControl(time, 0, 10, position, 10 * np.ones(len(velocity)))\n",
    "A, b = model.constraints()\n",
    "# X, V =  oracle.system_solve(s)\n",
    "# z = oracle.objective(np.zeros(oracle.time.shape))\n",
    "# grad = oracle.gradient(np.zeros(oracle.time.shape))"
   ]
  },
  {
   "cell_type": "code",
   "execution_count": 4,
   "id": "211126bd",
   "metadata": {},
   "outputs": [
    {
     "data": {
      "text/plain": [
       "(3000, 1000)"
      ]
     },
     "execution_count": 4,
     "metadata": {},
     "output_type": "execute_result"
    }
   ],
   "source": [
    "A.shape"
   ]
  },
  {
   "cell_type": "code",
   "execution_count": 5,
   "id": "10a279d1",
   "metadata": {
    "scrolled": true
   },
   "outputs": [
    {
     "name": "stdout",
     "output_type": "stream",
     "text": [
      "Objective value =  167.57130241293606\n",
      "Objective value =  167.33340549510444\n",
      "Objective value =  167.0977164959446\n",
      "Objective value =  166.86422286891008\n",
      "Objective value =  166.6329121379166\n",
      "Objective value =  166.4037718969384\n",
      "Objective value =  166.17678980970575\n",
      "Objective value =  165.95195360905467\n",
      "Objective value =  165.7292510966164\n",
      "Objective value =  165.50867014238827\n",
      "Objective value =  165.29019868433804\n",
      "Objective value =  165.07382472800526\n",
      "Objective value =  164.85953634636724\n",
      "Objective value =  164.6473216788938\n",
      "Objective value =  164.4371689314045\n",
      "Objective value =  164.2290663756632\n",
      "Objective value =  164.0230023489882\n",
      "Objective value =  163.81896525389521\n",
      "Objective value =  163.61694355809337\n",
      "Objective value =  163.41692579326306\n",
      "Objective value =  163.218900555082\n",
      "Objective value =  163.02285650283616\n",
      "Objective value =  162.82878235904016\n",
      "Objective value =  162.636666909116\n",
      "Objective value =  162.44649900153215\n",
      "Objective value =  162.25826754628753\n",
      "Objective value =  162.07196151510976\n",
      "Objective value =  161.88756994108383\n",
      "Objective value =  161.70508191828682\n",
      "Objective value =  161.52448660148266\n",
      "Objective value =  161.34577320644735\n",
      "Objective value =  161.16893100811137\n",
      "Objective value =  160.99394934095085\n",
      "Objective value =  160.82081759863155\n",
      "Objective value =  160.6495252336517\n",
      "Objective value =  160.48006175704435\n",
      "Objective value =  160.31241673893743\n",
      "Objective value =  160.14657980630056\n",
      "Objective value =  159.9825406435415\n",
      "Objective value =  159.8202889921685\n",
      "Objective value =  159.65981465044675\n",
      "Objective value =  159.50110747305968\n",
      "Objective value =  159.34415737202892\n",
      "Objective value =  159.18895431393042\n",
      "Objective value =  159.03548832075919\n",
      "Objective value =  158.8837494695932\n",
      "Objective value =  158.73372789226593\n",
      "Objective value =  158.58541377495766\n",
      "Objective value =  158.4387973595672\n",
      "Objective value =  158.29386894031452\n",
      "Objective value =  158.15061886488078\n",
      "Objective value =  158.0090375340897\n",
      "Objective value =  157.86911540158962\n",
      "Objective value =  157.73084297345605\n",
      "Objective value =  157.59421080965313\n",
      "Objective value =  157.45920952063938\n",
      "Objective value =  157.3258297683155\n",
      "Objective value =  157.19406226585403\n",
      "Objective value =  157.06389777740077\n",
      "Objective value =  156.9353271176722\n",
      "Objective value =  156.8083411534389\n",
      "Objective value =  156.68293080035085\n",
      "Objective value =  156.55908702348142\n",
      "Objective value =  156.4368008373757\n",
      "Objective value =  156.31606330575693\n",
      "Objective value =  156.19686554115077\n",
      "Objective value =  156.07919870625855\n",
      "Objective value =  155.96305401129902\n",
      "Objective value =  155.84842271387006\n",
      "Objective value =  155.73529611930567\n",
      "Objective value =  155.62366558039358\n",
      "Objective value =  155.51352249702276\n",
      "Objective value =  155.40485831733312\n",
      "Objective value =  155.29766453588547\n",
      "Objective value =  155.1919326925436\n",
      "Objective value =  155.08765437323356\n",
      "Objective value =  154.98482120966983\n",
      "Objective value =  154.8834248790417\n",
      "Objective value =  154.78345710479655\n",
      "Objective value =  154.684909656003\n",
      "Objective value =  154.58777434489963\n",
      "Objective value =  154.49204302817708\n",
      "Objective value =  154.39770760671064\n",
      "Objective value =  154.30476002528107\n",
      "Objective value =  154.2131922728777\n",
      "Objective value =  154.12299638360398\n",
      "Objective value =  154.034164432546\n",
      "Objective value =  153.9466885376862\n",
      "Objective value =  153.86056085964685\n",
      "Objective value =  153.7757736014376\n",
      "Objective value =  153.6923190081726\n",
      "Objective value =  153.61018936987273\n",
      "Objective value =  153.52946836070262\n",
      "Objective value =  153.45241233084323\n",
      "Objective value =  153.37990777869115\n",
      "Objective value =  153.31181161183358\n",
      "Objective value =  153.24800507076827\n",
      "Objective value =  153.1883726983317\n",
      "Objective value =  153.1328235773238\n",
      "Objective value =  153.08123570399496\n",
      "GD finished after 99 iterations\n"
     ]
    }
   ],
   "source": [
    "sol = projected_gradient_descent(model, 0.001, max_iterations=100, epsilon=1e-5, x0=model.initialize(), A = A.T, b = b)"
   ]
  },
  {
   "cell_type": "code",
   "execution_count": 6,
   "id": "767f6f52",
   "metadata": {},
   "outputs": [],
   "source": [
    "u_star = sol['solution']\n",
    "X, V = model.system_solve(u_star)"
   ]
  },
  {
   "cell_type": "code",
   "execution_count": 9,
   "id": "b8ccd75d",
   "metadata": {},
   "outputs": [
    {
     "data": {
      "text/plain": [
       "5.004887737215313"
      ]
     },
     "execution_count": 9,
     "metadata": {},
     "output_type": "execute_result"
    }
   ],
   "source": [
    "min(position - X)"
   ]
  },
  {
   "cell_type": "code",
   "execution_count": 8,
   "id": "0066ef39",
   "metadata": {},
   "outputs": [
    {
     "data": {
      "text/plain": [
       "[<matplotlib.lines.Line2D at 0x7fe3aafb74f0>]"
      ]
     },
     "execution_count": 8,
     "metadata": {},
     "output_type": "execute_result"
    },
    {
     "data": {
      "image/png": "[encoded data removed]",
      "text/plain": [
       "<Figure size 432x288 with 1 Axes>"
      ]
     },
     "metadata": {
      "needs_background": "light"
     },
     "output_type": "display_data"
    },
    {
     "data": {
      "image/png": "[encoded data removed]",
      "text/plain": [
       "<Figure size 432x288 with 1 Axes>"
      ]
     },
     "metadata": {
      "needs_background": "light"
     },
     "output_type": "display_data"
    }
   ],
   "source": [
    "plt.figure()\n",
    "plt.plot(position - X)\n",
    "# plt.plot(X)\n",
    "\n",
    "plt.figure()\n",
    "plt.plot(V)"
   ]
  },
  {
   "cell_type": "code",
   "execution_count": 47,
   "id": "26fde43f",
   "metadata": {},
   "outputs": [
    {
     "ename": "SyntaxError",
     "evalue": "invalid syntax (3537499340.py, line 1)",
     "output_type": "error",
     "traceback": [
      "\u001b[0;36m  File \u001b[0;32m\"/var/folders/g3/s19r9lbs7z1d6l3lrxjwsybc0000gn/T/ipykernel_1322/3537499340.py\"\u001b[0;36m, line \u001b[0;32m1\u001b[0m\n\u001b[0;31m    U =\u001b[0m\n\u001b[0m        ^\u001b[0m\n\u001b[0;31mSyntaxError\u001b[0m\u001b[0;31m:\u001b[0m invalid syntax\n"
     ]
    }
   ],
   "source": [
    "U = \n",
    "T = np.ones([len(time), len(time)])\n",
    "T[0, :] = 0\n",
    "T = np.tril(T)\n",
    "TU = np.matmul(T, U)"
   ]
  },
  {
   "cell_type": "code",
   "execution_count": 67,
   "id": "ed133462",
   "metadata": {},
   "outputs": [
    {
     "data": {
      "text/plain": [
       "0.0"
      ]
     },
     "execution_count": 67,
     "metadata": {},
     "output_type": "execute_result"
    }
   ],
   "source": [
    "min(velocity)"
   ]
  },
  {
   "cell_type": "code",
   "execution_count": 21,
   "id": "768e18de",
   "metadata": {},
   "outputs": [],
   "source": [
    "s = np.diff(data.Velocity)\n",
    "s = np.append(s, s[-1])\n",
    "X, V =  oracle.system_solve(s)"
   ]
  },
  {
   "cell_type": "code",
   "execution_count": 19,
   "id": "153519fc",
   "metadata": {},
   "outputs": [
    {
     "data": {
      "text/plain": [
       "array([1, 1])"
      ]
     },
     "execution_count": 19,
     "metadata": {},
     "output_type": "execute_result"
    }
   ],
   "source": [
    "np.diff([1,2,3])"
   ]
  },
  {
   "cell_type": "code",
   "execution_count": 18,
   "id": "9079abd7",
   "metadata": {},
   "outputs": [],
   "source": [
    "time = data.Time - min(data.Time)\n",
    "f = interp1d(time, data.Velocity, kind='linear', assume_sorted=True)"
   ]
  },
  {
   "cell_type": "code",
   "execution_count": 6,
   "id": "3e96c8bb",
   "metadata": {},
   "outputs": [
    {
     "data": {
      "text/plain": [
       "(2, 11342)"
      ]
     },
     "execution_count": 6,
     "metadata": {},
     "output_type": "execute_result"
    }
   ],
   "source": [
    "oracle.PQ.shape"
   ]
  },
  {
   "cell_type": "code",
   "execution_count": 4,
   "id": "46258d84",
   "metadata": {},
   "outputs": [
    {
     "data": {
      "text/plain": [
       "array([0.04349777, 0.04349777, 0.04349777, ..., 0.04349777, 0.04349777,\n",
       "       0.04349777])"
      ]
     },
     "execution_count": 4,
     "metadata": {},
     "output_type": "execute_result"
    }
   ],
   "source": [
    "oracle.Q_dot"
   ]
  },
  {
   "cell_type": "code",
   "execution_count": 6,
   "id": "4e0fcc0e",
   "metadata": {},
   "outputs": [],
   "source": [
    "V = np.maximum(oracle.V, 0)"
   ]
  },
  {
   "cell_type": "code",
   "execution_count": 7,
   "id": "80ad8ced",
   "metadata": {},
   "outputs": [
    {
     "data": {
      "text/plain": [
       "array([20., 20., 20., ..., 20., 20., 20.])"
      ]
     },
     "execution_count": 7,
     "metadata": {},
     "output_type": "execute_result"
    }
   ],
   "source": []
  },
  {
   "cell_type": "code",
   "execution_count": 20,
   "id": "566a9653",
   "metadata": {},
   "outputs": [
    {
     "data": {
      "text/plain": [
       "3.30050221372029e-05"
      ]
     },
     "execution_count": 20,
     "metadata": {},
     "output_type": "execute_result"
    }
   ],
   "source": [
    "3.30050221372029e-05"
   ]
  },
  {
   "cell_type": "code",
   "execution_count": 23,
   "id": "2a2ca102",
   "metadata": {},
   "outputs": [
    {
     "data": {
      "text/plain": [
       "array([[10, 10, 10, 10, 10, 10, 10, 10, 10, 10],\n",
       "       [10, 10, 10, 10, 10, 10, 10, 10, 10, 10],\n",
       "       [10, 10, 10, 10, 10, 10, 10, 10, 10, 10],\n",
       "       [10, 10, 10, 10, 10, 10, 10, 10, 10, 10],\n",
       "       [10, 10, 10, 10, 10, 10, 10, 10, 10, 10],\n",
       "       [10, 10, 10, 10, 10, 10, 10, 10, 10, 10],\n",
       "       [10, 10, 10, 10, 10, 10, 10, 10, 10, 10],\n",
       "       [10, 10, 10, 10, 10, 10, 10, 10, 10, 10],\n",
       "       [10, 10, 10, 10, 10, 10, 10, 10, 10, 10],\n",
       "       [10, 10, 10, 10, 10, 10, 10, 10, 10, 10]])"
      ]
     },
     "execution_count": 23,
     "metadata": {},
     "output_type": "execute_result"
    }
   ],
   "source": [
    "(s > 0) * 10"
   ]
  },
  {
   "cell_type": "code",
   "execution_count": null,
   "id": "cc3a9af6",
   "metadata": {},
   "outputs": [],
   "source": []
  }
 ],
 "metadata": {
  "kernelspec": {
   "display_name": "Python 3 (ipykernel)",
   "language": "python",
   "name": "python3"
  },
  "language_info": {
   "codemirror_mode": {
    "name": "ipython",
    "version": 3
   },
   "file_extension": ".py",
   "mimetype": "text/x-python",
   "name": "python",
   "nbconvert_exporter": "python",
   "pygments_lexer": "ipython3",
   "version": "3.9.7"
  }
 },
 "nbformat": 4,
 "nbformat_minor": 5
}
